{
  "nbformat": 4,
  "nbformat_minor": 0,
  "metadata": {
    "colab": {
      "provenance": [],
      "authorship_tag": "ABX9TyPAJsZwjMNlu0KVrJU1Z3HB",
      "include_colab_link": true
    },
    "kernelspec": {
      "name": "python3",
      "display_name": "Python 3"
    },
    "language_info": {
      "name": "python"
    }
  },
  "cells": [
    {
      "cell_type": "markdown",
      "metadata": {
        "id": "view-in-github",
        "colab_type": "text"
      },
      "source": [
        "<a href=\"https://colab.research.google.com/github/VinceD12/VD-TSSR2022_1/blob/main/TP1.ipynb\" target=\"_parent\"><img src=\"https://colab.research.google.com/assets/colab-badge.svg\" alt=\"Open In Colab\"/></a>"
      ]
    },
    {
      "cell_type": "code",
      "source": [],
      "metadata": {
        "id": "P-d5m9r4LgVc"
      },
      "execution_count": null,
      "outputs": []
    },
    {
      "cell_type": "code",
      "execution_count": 1,
      "metadata": {
        "colab": {
          "base_uri": "https://localhost:8080/"
        },
        "id": "OIH-FBLNM2BI",
        "outputId": "f115657c-7a9b-450d-9cc4-a86b0fc018ce"
      },
      "outputs": [
        {
          "output_type": "stream",
          "name": "stdout",
          "text": [
            "--2023-06-01 13:38:15--  https://cdn.antho.cefim.o2switch.site/access.log\n",
            "Resolving cdn.antho.cefim.o2switch.site (cdn.antho.cefim.o2switch.site)... 109.234.161.199\n",
            "Connecting to cdn.antho.cefim.o2switch.site (cdn.antho.cefim.o2switch.site)|109.234.161.199|:443... connected.\n",
            "HTTP request sent, awaiting response... 200 OK\n",
            "Length: 323869 (316K) [text/x-log]\n",
            "Saving to: ‘access.log’\n",
            "\n",
            "access.log          100%[===================>] 316.28K   904KB/s    in 0.3s    \n",
            "\n",
            "2023-06-01 13:38:17 (904 KB/s) - ‘access.log’ saved [323869/323869]\n",
            "\n"
          ]
        }
      ],
      "source": [
        "!wget https://cdn.antho.cefim.o2switch.site/access.log"
      ]
    },
    {
      "cell_type": "code",
      "execution_count": 3,
      "metadata": {
        "colab": {
          "base_uri": "https://localhost:8080/"
        },
        "id": "45sirC7SLVQN",
        "outputId": "f696ed07-1452-434c-fe26-66295dab4853"
      },
      "outputs": [
        {
          "output_type": "stream",
          "name": "stdout",
          "text": [
            "Analyse terminée. Résultats stockés dans le fichier JSON.\n"
          ]
        }
      ],
      "source": [
        "import re\n",
        "import json\n",
        "\n",
        "log_file_path = 'access.log'  # Chemin vers le fichier de log\n",
        "output_file_path = 'result.json'  # Chemin vers le fichier JSON de sortie\n",
        "\n",
        "# Pattern regex pour capturer l'adresse IP et le code d'erreur\n",
        "ip_pattern = r'^(\\S+)'\n",
        "error_code_pattern = r'\\s(\\d{3})\\s'\n",
        "\n",
        "ip_error_counts = {}  # Dictionnaire pour stocker les compteurs d'erreurs par adresse IP\n",
        "\n",
        "with open(log_file_path, 'r') as log_file:\n",
        "    for line in log_file:\n",
        "        ip_match = re.match(ip_pattern, line)\n",
        "        error_code_match = re.search(error_code_pattern, line)\n",
        "\n",
        "        if ip_match and error_code_match:\n",
        "            ip_address = ip_match.group(1)\n",
        "            error_code = error_code_match.group(1)\n",
        "\n",
        "            if ip_address in ip_error_counts:\n",
        "                if error_code in ip_error_counts[ip_address]:\n",
        "                    ip_error_counts[ip_address][error_code] += 1\n",
        "                else:\n",
        "                    ip_error_counts[ip_address][error_code] = 1\n",
        "            else:\n",
        "                ip_error_counts[ip_address] = {error_code: 1}\n",
        "\n",
        "# Écriture des résultats dans le fichier JSON\n",
        "with open(output_file_path, 'w') as output_file:\n",
        "    json.dump(ip_error_counts, output_file, indent=4)\n",
        "\n",
        "print(\"Analyse terminée. Résultats stockés dans le fichier JSON.\")\n"
      ]
    }
  ]
}